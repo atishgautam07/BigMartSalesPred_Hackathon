{
 "cells": [
  {
   "cell_type": "code",
   "execution_count": 1,
   "id": "1e6043b0",
   "metadata": {},
   "outputs": [],
   "source": [
    "import pandas as pd\n",
    "import numpy as np\n",
    "from typing import Dict, Tuple, Any\n",
    "import warnings\n",
    "warnings.filterwarnings('ignore')"
   ]
  },
  {
   "cell_type": "code",
   "execution_count": null,
   "id": "ff8dc87f",
   "metadata": {},
   "outputs": [
    {
     "name": "stdout",
     "output_type": "stream",
     "text": [
      "(8523, 14) (5681, 12)\n"
     ]
    }
   ],
   "source": [
    "data_path = \"/Users/whysocurious/Documents/MLDSAIProjects/BigMartSalesPred_Hackathon/data\"\n",
    "\n",
    "train_clean = pd.read_csv(f\"{data_path}/processed/train_cleaned.csv\")\n",
    "test_clean = pd.read_csv(f\"{data_path}/processed/test_cleaned.csv\")\n",
    "\n",
    "print (train_clean.shape, test_clean.shape)"
   ]
  },
  {
   "cell_type": "code",
   "execution_count": null,
   "id": "c38330b5",
   "metadata": {},
   "outputs": [
    {
     "name": "stdout",
     "output_type": "stream",
     "text": [
      "=== Phase 2: Feature Engineering ===\n",
      "\n",
      "2.1 Creating basic derived features...\n",
      "Outlet age range: 4 to 28 years\n",
      "MRP distribution across bins:\n",
      "Item_MRP_Bins\n",
      "High        2434\n",
      "Medium      2210\n",
      "Low         1682\n",
      "Premium     1440\n",
      "Very_Low     757\n",
      "Name: count, dtype: int64\n"
     ]
    }
   ],
   "source": [
    "# Continuing from Phase 1 - Feature Engineering\n",
    "print(\"=== Phase 2: Feature Engineering ===\")\n",
    "\n",
    "# 2.1 Basic Features\n",
    "print(\"\\n2.1 Creating basic derived features...\")\n",
    "\n",
    "# Outlet Age - key feature as older stores might have established customer base\n",
    "train_clean['Outlet_Age'] = 2013 - train_clean['Outlet_Establishment_Year']\n",
    "train_clean['Outlet_Age_Squared'] = train_clean['Outlet_Age'] ** 2\n",
    "\n",
    "print(f\"Outlet age range: {train_clean['Outlet_Age'].min()} to {train_clean['Outlet_Age'].max()} years\")\n",
    "\n",
    "# Item MRP bins - price segments often drive different buying behaviors\n",
    "train_clean['Item_MRP_Bins'] = pd.cut(\n",
    "    train_clean['Item_MRP'], \n",
    "    bins=[0, 50, 100, 150, 200, 300], \n",
    "    labels=['Very_Low', 'Low', 'Medium', 'High', 'Premium'],\n",
    "    include_lowest=True\n",
    ")\n",
    "\n",
    "print(\"MRP distribution across bins:\")\n",
    "print(train_clean['Item_MRP_Bins'].value_counts())\n",
    "\n",
    "# Price per unit visibility - efficiency metric\n",
    "train_clean['Price_Per_Unit_Visibility'] = train_clean['Item_MRP'] / (train_clean['Item_Visibility'] + 0.001)\n"
   ]
  },
  {
   "cell_type": "code",
   "execution_count": 4,
   "id": "4cd032b3",
   "metadata": {},
   "outputs": [
    {
     "name": "stdout",
     "output_type": "stream",
     "text": [
      "\n",
      "2.2 Creating category-level statistical features...\n",
      "Statistical features created successfully\n"
     ]
    }
   ],
   "source": [
    "# 2.2 Category-Level Statistics (only calculate on train data to prevent leakage)\n",
    "print(\"\\n2.2 Creating category-level statistical features...\")\n",
    "\n",
    "# train_mask = train_clean['source'] == 'train'\n",
    "train_data = train_clean.copy()\n",
    "\n",
    "# Item-Type and Outlet combination stats\n",
    "item_outlet_stats = train_data.groupby(['Item_Type', 'Outlet_Identifier'])['Item_Outlet_Sales'].agg(['mean', 'count']).reset_index()\n",
    "item_outlet_stats.columns = ['Item_Type', 'Outlet_Identifier', 'Item_Type_Outlet_Avg_Sales', 'Item_Type_Outlet_Count']\n",
    "\n",
    "# Merge back to train_clean dataset\n",
    "train_clean = train_clean.merge(item_outlet_stats, on=['Item_Type', 'Outlet_Identifier'], how='left')\n",
    "\n",
    "# Fill missing values for test data with overall means\n",
    "train_clean['Item_Type_Outlet_Avg_Sales'].fillna(train_data['Item_Outlet_Sales'].mean(), inplace=True)\n",
    "train_clean['Item_Type_Outlet_Count'].fillna(1, inplace=True)\n",
    "\n",
    "# Item-level statistics across all outlets\n",
    "item_stats = train_data.groupby('Item_Identifier')['Item_Outlet_Sales'].agg(['mean', 'std']).reset_index()\n",
    "item_stats.columns = ['Item_Identifier', 'Item_Avg_Sales', 'Item_Sales_Std']\n",
    "item_stats['Item_Sales_Std'].fillna(0, inplace=True)  # New items might not have std\n",
    "\n",
    "train_clean = train_clean.merge(item_stats, on='Item_Identifier', how='left')\n",
    "train_clean['Item_Avg_Sales'].fillna(train_data['Item_Outlet_Sales'].mean(), inplace=True)\n",
    "train_clean['Item_Sales_Std'].fillna(train_data['Item_Outlet_Sales'].std(), inplace=True)\n",
    "\n",
    "# Outlet-level statistics\n",
    "outlet_stats = train_data.groupby('Outlet_Identifier').agg({\n",
    "    'Item_Outlet_Sales': 'mean',\n",
    "    'Item_Visibility': 'sum'\n",
    "}).reset_index()\n",
    "outlet_stats.columns = ['Outlet_Identifier', 'Outlet_Avg_Sales', 'Outlet_Total_Visibility']\n",
    "\n",
    "train_clean = train_clean.merge(outlet_stats, on='Outlet_Identifier', how='left')\n",
    "train_clean['Outlet_Avg_Sales'].fillna(train_data['Item_Outlet_Sales'].mean(), inplace=True)\n",
    "train_clean['Outlet_Total_Visibility'].fillna(train_clean['Item_Visibility'].mean(), inplace=True)\n",
    "\n",
    "print(\"Statistical features created successfully\")\n"
   ]
  },
  {
   "cell_type": "code",
   "execution_count": 5,
   "id": "d6eb1877",
   "metadata": {},
   "outputs": [
    {
     "name": "stdout",
     "output_type": "stream",
     "text": [
      "\n",
      "2.3 Creating competition and positioning features...\n",
      "Competition features created\n"
     ]
    }
   ],
   "source": [
    "# 2.3 Competition & Cross-Product Features\n",
    "print(\"\\n2.3 Creating competition and positioning features...\")\n",
    "\n",
    "# Within category competition\n",
    "train_clean['Items_In_Same_Category'] = train_clean.groupby(['Outlet_Identifier', 'Item_Type'])['Item_Identifier'].transform('count')\n",
    "\n",
    "# Category visibility share - how much shelf space does this item get in its category\n",
    "category_visibility = train_clean.groupby(['Outlet_Identifier', 'Item_Type'])['Item_Visibility'].transform('sum')\n",
    "train_clean['Category_Visibility_Share'] = train_clean['Item_Visibility'] / (category_visibility + 0.001)\n",
    "\n",
    "# Price ranking within category and outlet\n",
    "train_clean['Item_Price_Rank_In_Category'] = train_clean.groupby(['Outlet_Identifier', 'Item_Type'])['Item_MRP'].rank(method='dense')\n",
    "\n",
    "# Count of cheaper alternatives in same category\n",
    "def count_cheaper_alternatives(group):\n",
    "    result = []\n",
    "    for idx, row in group.iterrows():\n",
    "        cheaper_count = (group['Item_MRP'] < row['Item_MRP']).sum()\n",
    "        result.append(cheaper_count)\n",
    "    return pd.Series(result, index=group.index)\n",
    "\n",
    "cheaper_counts = train_clean.groupby(['Outlet_Identifier', 'Item_Type']).apply(count_cheaper_alternatives)\n",
    "train_clean['Cheaper_Alternatives_Count'] = cheaper_counts.values\n",
    "\n",
    "# Relative price positioning\n",
    "category_avg_price = train_clean.groupby(['Outlet_Identifier', 'Item_Type'])['Item_MRP'].transform('mean')\n",
    "train_clean['Price_Ratio_To_Category_Avg'] = train_clean['Item_MRP'] / category_avg_price\n",
    "\n",
    "# Relative visibility positioning\n",
    "category_avg_visibility = train_clean.groupby(['Outlet_Identifier', 'Item_Type'])['Item_Visibility'].transform('mean')\n",
    "train_clean['Visibility_Ratio_To_Category_Avg'] = train_clean['Item_Visibility'] / (category_avg_visibility + 0.001)\n",
    "\n",
    "print(\"Competition features created\")\n"
   ]
  },
  {
   "cell_type": "code",
   "execution_count": 6,
   "id": "8d87aa8c",
   "metadata": {},
   "outputs": [
    {
     "name": "stdout",
     "output_type": "stream",
     "text": [
      "\n",
      "2.4 Creating outlet assortment features...\n",
      "Outlet assortment features created\n"
     ]
    }
   ],
   "source": [
    "# 2.4 Outlet Assortment Features\n",
    "print(\"\\n2.4 Creating outlet assortment features...\")\n",
    "\n",
    "# Diversity metrics\n",
    "train_clean['Unique_Categories_In_Outlet'] = train_clean.groupby('Outlet_Identifier')['Item_Type'].transform('nunique')\n",
    "\n",
    "# Premium product ratio per outlet\n",
    "outlet_premium_ratio = train_clean.groupby('Outlet_Identifier').apply(\n",
    "    lambda x: (x['Item_MRP'] > 150).mean()\n",
    ").reset_index()\n",
    "outlet_premium_ratio.columns = ['Outlet_Identifier', 'Outlet_Premium_Ratio']\n",
    "\n",
    "train_clean = train_clean.merge(outlet_premium_ratio, on='Outlet_Identifier', how='left')\n",
    "\n",
    "# Low fat ratio per outlet\n",
    "train_clean['Outlet_Low_Fat_Ratio'] = train_clean.groupby('Outlet_Identifier')['Low_Fat_Flag'].transform('mean')\n",
    "\n",
    "print(\"Outlet assortment features created\")"
   ]
  },
  {
   "cell_type": "code",
   "execution_count": 7,
   "id": "e0b03f9d",
   "metadata": {},
   "outputs": [
    {
     "name": "stdout",
     "output_type": "stream",
     "text": [
      "\n",
      "2.5 Creating interaction features...\n",
      "Interaction features created\n"
     ]
    }
   ],
   "source": [
    "# 2.5 Advanced Interaction Features\n",
    "print(\"\\n2.5 Creating interaction features...\")\n",
    "\n",
    "# Location-Type interactions\n",
    "train_clean['Is_Tier1_Supermarket'] = (\n",
    "    (train_clean['Outlet_Location_Type'] == 'Tier 1') & \n",
    "    (train_clean['Outlet_Type'].str.contains('Supermarket'))\n",
    ").astype(int)\n",
    "\n",
    "# Price-Size interactions\n",
    "train_clean['Large_Outlet_Premium_Item'] = (\n",
    "    (train_clean['Outlet_Size'] == 'Large') & \n",
    "    (train_clean['Item_MRP_Bins'] == 'Premium')\n",
    ").astype(int)\n",
    "\n",
    "# Category-Outlet type interactions\n",
    "drinks_categories = ['Soft Drinks', 'Dairy']\n",
    "train_clean['Drinks_In_Grocery'] = (\n",
    "    (train_clean['Item_Type'].isin(drinks_categories)) & \n",
    "    (train_clean['Outlet_Type'] == 'Grocery Store')\n",
    ").astype(int)\n",
    "\n",
    "print(\"Interaction features created\")"
   ]
  },
  {
   "cell_type": "code",
   "execution_count": 8,
   "id": "37ab37d5",
   "metadata": {},
   "outputs": [
    {
     "name": "stdout",
     "output_type": "stream",
     "text": [
      "\n",
      "2.6 Creating complementary product features...\n",
      "Complementary product features created\n"
     ]
    }
   ],
   "source": [
    "# 2.6 Domain-Based Complementary Product Features\n",
    "print(\"\\n2.6 Creating complementary product features...\")\n",
    "\n",
    "# Define complement groups based on shopping patterns\n",
    "complement_groups = {\n",
    "    'Breakfast': ['Dairy', 'Breads', 'Breakfast'],\n",
    "    'Snacks': ['Snack Foods', 'Soft Drinks'],\n",
    "    'Household': ['Household', 'Health and Hygiene'],\n",
    "    'Cooking': ['Fruits and Vegetables', 'Meat', 'Seafood']\n",
    "}\n",
    "\n",
    "# Create complement group mapping\n",
    "item_to_group = {}\n",
    "for group, items in complement_groups.items():\n",
    "    for item in items:\n",
    "        item_to_group[item] = group\n",
    "\n",
    "train_clean['Complement_Group'] = train_clean['Item_Type'].map(item_to_group).fillna('Other')\n",
    "\n",
    "# Count of items from same complement group in outlet\n",
    "train_clean['Complement_Group_Items_Count'] = train_clean.groupby(['Outlet_Identifier', 'Complement_Group'])['Item_Identifier'].transform('count')\n",
    "\n",
    "# Total visibility of complement group in outlet\n",
    "train_clean['Complement_Group_Visibility'] = train_clean.groupby(['Outlet_Identifier', 'Complement_Group'])['Item_Visibility'].transform('sum')\n",
    "\n",
    "print(\"Complementary product features created\")\n"
   ]
  },
  {
   "cell_type": "code",
   "execution_count": 9,
   "id": "602ec0fa",
   "metadata": {},
   "outputs": [
    {
     "name": "stdout",
     "output_type": "stream",
     "text": [
      "\n",
      "2.7 Additional domain-specific features...\n"
     ]
    }
   ],
   "source": [
    "# Additional useful features based on domain knowledge\n",
    "print(\"\\n2.7 Additional domain-specific features...\")\n",
    "\n",
    "# Item establishment ratio - how long has this item type been in the outlet relative to outlet age\n",
    "# This captures if certain categories were introduced later\n",
    "train_clean['Item_Weight_To_MRP_Ratio'] = train_clean['Item_Weight'] / (train_clean['Item_MRP'] + 1)\n",
    "\n",
    "# Visibility per dollar - marketing efficiency\n",
    "train_clean['Visibility_Per_Dollar'] = train_clean['Item_Visibility'] / (train_clean['Item_MRP'] + 1)\n",
    "\n",
    "# High visibility flag - items with above average visibility in their category\n",
    "train_clean['Above_Avg_Visibility_In_Category'] = (\n",
    "    train_clean['Item_Visibility'] > train_clean.groupby(['Outlet_Identifier', 'Item_Type'])['Item_Visibility'].transform('mean')\n",
    ").astype(int)\n",
    "\n",
    "# Outlet market penetration - how well established is this outlet type in this location\n",
    "outlet_location_counts = train_clean.groupby(['Outlet_Location_Type', 'Outlet_Type']).size().reset_index(name='Outlet_Type_Count_In_Location')\n",
    "train_clean = train_clean.merge(outlet_location_counts, on=['Outlet_Location_Type', 'Outlet_Type'], how='left')"
   ]
  },
  {
   "cell_type": "code",
   "execution_count": 11,
   "id": "b14bc341",
   "metadata": {},
   "outputs": [
    {
     "name": "stdout",
     "output_type": "stream",
     "text": [
      "=== Feature Engineering Summary ===\n",
      "Total features created: 42\n",
      "New features: 30\n",
      "\n",
      "No missing values remaining!\n",
      "\n",
      "Top 15 features correlated with sales:\n",
      "Item_Outlet_Sales               1.000000\n",
      "log_sales                       0.861762\n",
      "Item_Avg_Sales                  0.653482\n",
      "Item_MRP                        0.567574\n",
      "Price_Ratio_To_Category_Avg     0.562509\n",
      "Item_Price_Rank_In_Category     0.525312\n",
      "Item_Sales_Std                  0.505950\n",
      "Item_Type_Outlet_Avg_Sales      0.504331\n",
      "Outlet_Avg_Sales                0.490755\n",
      "Item_Weight_To_MRP_Ratio        0.408235\n",
      "Visibility_Per_Dollar           0.362340\n",
      "Outlet_Total_Visibility         0.219985\n",
      "Items_In_Same_Category          0.168149\n",
      "Item_Type_Outlet_Count          0.168149\n",
      "Complement_Group_Items_Count    0.151363\n",
      "Name: Item_Outlet_Sales, dtype: float64\n",
      "\n",
      "Feature engineering completed successfully!\n",
      "Ready for encoding and model development...\n"
     ]
    }
   ],
   "source": [
    "print(\"=== Feature Engineering Summary ===\")\n",
    "print(f\"Total features created: {train_clean.shape[1]}\")\n",
    "print(f\"New features: {train_clean.shape[1] - 12}\")  # Original dataset had 12 columns\n",
    "\n",
    "# Check for any remaining missing values\n",
    "missing_check = train_clean.isnull().sum()\n",
    "if missing_check.sum() > 0:\n",
    "    print(\"\\nRemaining missing values:\")\n",
    "    print(missing_check[missing_check > 0])\n",
    "else:\n",
    "    print(\"\\nNo missing values remaining!\")\n",
    "\n",
    "# Display feature correlation with target (for train data only)\n",
    "if 'Item_Outlet_Sales' in train_clean.columns:\n",
    "    print(\"\\nTop 15 features correlated with sales:\")\n",
    "    train_correlations = train_clean.select_dtypes(include=[np.number]).corr()['Item_Outlet_Sales'].abs().sort_values(ascending=False)\n",
    "    print(train_correlations.head(15))\n",
    "\n",
    "print(\"\\nFeature engineering completed successfully!\")\n",
    "print(\"Ready for encoding and model development...\")"
   ]
  },
  {
   "cell_type": "code",
   "execution_count": null,
   "id": "dde5c388",
   "metadata": {},
   "outputs": [],
   "source": []
  },
  {
   "cell_type": "code",
   "execution_count": null,
   "id": "e885e306",
   "metadata": {},
   "outputs": [],
   "source": []
  }
 ],
 "metadata": {
  "kernelspec": {
   "display_name": "salespred-hackathon",
   "language": "python",
   "name": "python3"
  },
  "language_info": {
   "codemirror_mode": {
    "name": "ipython",
    "version": 3
   },
   "file_extension": ".py",
   "mimetype": "text/x-python",
   "name": "python",
   "nbconvert_exporter": "python",
   "pygments_lexer": "ipython3",
   "version": "3.10.8"
  }
 },
 "nbformat": 4,
 "nbformat_minor": 5
}
